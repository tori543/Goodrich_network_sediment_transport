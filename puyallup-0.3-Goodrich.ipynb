{
 "cells": [
  {
   "cell_type": "markdown",
   "id": "1",
   "metadata": {
    "tags": []
   },
   "source": [
    "# Generate a Network Model Grid on an OpenTopography DEM for the Puyallup River\n",
    "<hr>\n",
    "<small>For more Landlab tutorials, click here: <a href=\"https://landlab.readthedocs.io/en/latest/user_guide/tutorials.html\">https://landlab.readthedocs.io/en/latest/user_guide/tutorials.html</a></small>\n",
    "\n",
    "<hr>\n",
    "\n",
    "This notebook demonstrates how to create a NetworkModelGrid from a DEM hosted by OpenTopography. In this tutorial we will:\n",
    "* Download a DEM from OpenTopography\n",
    "* Reproject the DEM into a meter-based coordinate system (UTM-13)\n",
    "* Clip the DEM to the largest watershed\n",
    "* Create a NetworkModelGrid on the river system in this watershed using three different 'network_grid_from_raster' options\n",
    "\n",
    "<hr>\n",
    "\n",
    "*Note: Updated 5/21/2024 to use rioxarray*"
   ]
  },
  {
   "cell_type": "code",
   "execution_count": null,
   "id": "755e124a-63a9-48d5-9b55-9c40e52ba6a3",
   "metadata": {},
   "outputs": [],
   "source": []
  },
  {
   "cell_type": "code",
   "execution_count": null,
   "id": "2",
   "metadata": {
    "tags": []
   },
   "outputs": [],
   "source": [
    "import warnings\n",
    "warnings.filterwarnings('ignore')\n",
    "\n",
    "import os\n",
    "import pathlib\n",
    "import matplotlib.pyplot as plt\n",
    "import numpy as np\n",
    "import xarray as xr\n",
    "import rioxarray as rxr\n",
    "\n",
    "import pandas as pd\n",
    "\n",
    "from landlab import imshow_grid\n",
    "from landlab.components import FlowDirectorSteepest, NetworkSedimentTransporter\n",
    "from landlab.data_record import DataRecord\n",
    "from landlab.grid.network import NetworkModelGrid\n",
    "from landlab.plot import graph\n",
    "from landlab.io import read_shapefile\n",
    "from landlab.plot import plot_network_and_parcels\n",
    "\n",
    "from bmi_topography import Topography\n",
    "from rasterio.enums import Resampling\n",
    "\n",
    "import shapefile\n",
    "\n",
    "from landlab import RasterModelGrid\n",
    "\n",
    "%matplotlib inline"
   ]
  },
  {
   "cell_type": "markdown",
   "id": "3",
   "metadata": {},
   "source": [
    "## 1. Download DEM from OpenTopography using Topography utility"
   ]
  },
  {
   "cell_type": "code",
   "execution_count": null,
   "id": "7",
   "metadata": {
    "tags": []
   },
   "outputs": [],
   "source": [
    "width = 0.05\n",
    "dem = Topography(\n",
    "    north=47.3358357629999986,\n",
    "    south=46.7825014000000010,\n",
    "    east=-121.3748169240000010,\n",
    "    west=-122.4685226619999980 ,\n",
    "    output_format=\"GTiff\",\n",
    "    dem_type=\"SRTMGL3\",\n",
    "    api_key='0b1844d3d39d5e6fb414e7d6f0ff6e3d'\n",
    ")\n",
    "dem.fetch()\n",
    "_ = dem.load()"
   ]
  },
  {
   "cell_type": "code",
   "execution_count": null,
   "id": "45c442c1-f303-4875-9f92-fefd5976e4e7",
   "metadata": {
    "tags": []
   },
   "outputs": [],
   "source": [
    "dst_crs=\"EPSG:32610\"   # Destination coordinate reference system: UTM Zone 10 N (Washington)\n",
    "scale_factor=2\n",
    "transformed_array=dem.da.rio.reproject(dst_crs).astype('float')\n",
    "\n",
    "reproj_array = transformed_array.rio.reproject(\n",
    "    transformed_array.rio.crs,\n",
    "    shape=(int(transformed_array.sizes['y']/scale_factor), int(transformed_array.sizes['x']/scale_factor)),\n",
    "    resampling=Resampling.bilinear,\n",
    ")"
   ]
  },
  {
   "cell_type": "markdown",
   "id": "4b0ada63-eabb-4520-b5e0-3b7413056b8d",
   "metadata": {},
   "source": [
    "## 2. Clip Array Using Watershed Boundary Shapefile"
   ]
  },
  {
   "cell_type": "code",
   "execution_count": null,
   "id": "4e5aae29-0566-4a90-bec3-3b2510e6b8b1",
   "metadata": {
    "tags": []
   },
   "outputs": [],
   "source": [
    "datadir = pathlib.Path(\"puyallup_data\")\n",
    "shp_file = datadir / \"puyallup_boundary.shp\"\n",
    "\n",
    "boundary = shapefile.Reader(shp_file)"
   ]
  },
  {
   "cell_type": "code",
   "execution_count": null,
   "id": "d2e444c2-9cdc-4e9c-8a88-f72ae3a5bd9b",
   "metadata": {
    "tags": []
   },
   "outputs": [],
   "source": [
    "clipped_array = reproj_array.rio.clip(boundary.shapes())\n",
    "clipped_bounds=clipped_array.rio.bounds()"
   ]
  },
  {
   "cell_type": "code",
   "execution_count": null,
   "id": "958bacdf-6d33-46ef-8565-251e9350b70a",
   "metadata": {
    "tags": []
   },
   "outputs": [],
   "source": [
    "no_dataval = -9999\n",
    "mask_array = clipped_array.copy()\n",
    "mask_array.data = no_dataval*np.ones_like(clipped_array.data)\n",
    "mask_array = mask_array.rio.clip(boundary.shapes(),invert=True)\n",
    "masked_clipped_array = mask_array + clipped_array\n",
    "masked_clipped_array.attrs=reproj_array.attrs # Not sure if I need to do this\n",
    "print(masked_clipped_array)\n",
    "masked_clipped_array.rio.set_nodata(no_dataval) # Not sure if I need to do this"
   ]
  },
  {
   "cell_type": "markdown",
   "id": "21",
   "metadata": {},
   "source": [
    "## 3. Create Landlab Grid"
   ]
  },
  {
   "cell_type": "code",
   "execution_count": null,
   "id": "23",
   "metadata": {
    "tags": []
   },
   "outputs": [],
   "source": [
    "target_res=50\n",
    "grid = RasterModelGrid(\n",
    "    (masked_clipped_array.sizes['y'], masked_clipped_array.sizes['x']),\n",
    "    xy_spacing=target_res,\n",
    "    xy_of_lower_left=(clipped_bounds[0],clipped_bounds[1]),\n",
    "    xy_axis_name=(\"X UTM10\", \"Y UTM10\"),\n",
    "    xy_axis_units=\"m\",\n",
    ")\n",
    "z = np.ravel(np.flipud(masked_clipped_array.values[0]))\n",
    "grid.at_node[\"topographic__elevation\"] = z"
   ]
  },
  {
   "cell_type": "code",
   "execution_count": null,
   "id": "25",
   "metadata": {
    "tags": []
   },
   "outputs": [],
   "source": [
    "grid.status_at_node[np.isclose(z, masked_clipped_array.rio.nodata)] = grid.BC_NODE_IS_CLOSED\n",
    "# I think I still need to do this"
   ]
  },
  {
   "cell_type": "markdown",
   "id": "29",
   "metadata": {},
   "source": [
    "_Note: I deleted the section in the tutorial where it ran FlowAccumulator, since we figured out the watershed boundary with the shapefile. However, I did try FlowAccumulator, and it did not run._"
   ]
  },
  {
   "cell_type": "markdown",
   "id": "39",
   "metadata": {},
   "source": [
    "## 4. Set a watershed boundary condition for your grid"
   ]
  },
  {
   "cell_type": "code",
   "execution_count": null,
   "id": "8cebc3b5-7844-46f7-a99c-41c65cfa7216",
   "metadata": {
    "tags": []
   },
   "outputs": [],
   "source": [
    "grid.at_node[\"topographic__elevation\"].data[141230]=-9999"
   ]
  },
  {
   "cell_type": "code",
   "execution_count": null,
   "id": "40",
   "metadata": {
    "tags": []
   },
   "outputs": [],
   "source": [
    " grid.set_watershed_boundary_condition(\n",
    "     'topographic__elevation',\n",
    "     nodata_value=-9999,\n",
    "     return_outlet_id=True\n",
    " )"
   ]
  },
  {
   "cell_type": "code",
   "execution_count": null,
   "id": "41",
   "metadata": {
    "tags": []
   },
   "outputs": [],
   "source": [
    "grid.set_watershed_boundary_condition_outlet_id(\n",
    "    [218844],\n",
    "    \"topographic__elevation\",\n",
    ")"
   ]
  },
  {
   "cell_type": "code",
   "execution_count": null,
   "id": "61cf1a23-2278-44c0-b85b-bfbddab0b36d",
   "metadata": {
    "tags": []
   },
   "outputs": [],
   "source": [
    "mca_v=xr.where(masked_clipped_array.values>masked_clipped_array.rio.nodata,masked_clipped_array.values,np.nan).ravel()\n",
    "print(np.nanmean(mca_v),np.nanmax(mca_v))"
   ]
  },
  {
   "cell_type": "markdown",
   "id": "42",
   "metadata": {},
   "source": [
    "## 5. Create a NetworkModelGrid on this topography"
   ]
  },
  {
   "cell_type": "code",
   "execution_count": null,
   "id": "43",
   "metadata": {
    "tags": []
   },
   "outputs": [],
   "source": [
    "from landlab.grid.create_network import (\n",
    "    AtMostNodes,\n",
    "    SpacingAtLeast,\n",
    "    network_grid_from_raster,\n",
    "    spacing_from_drainage_area,\n",
    ")\n",
    "from landlab.plot.graph import plot_links, plot_nodes"
   ]
  },
  {
   "cell_type": "code",
   "execution_count": null,
   "id": "b14735fb-e052-4928-9427-fccaf87d64ac",
   "metadata": {
    "tags": []
   },
   "outputs": [],
   "source": [
    "network_grid = network_grid_from_raster(\n",
    "    grid,\n",
    "    minimum_channel_threshold=5000000,  # upstream drainage area to truncate network, in m^2\n",
    "    include=[\"drainage_area\", \"topographic__elevation\"],\n",
    ")"
   ]
  },
  {
   "cell_type": "code",
   "execution_count": null,
   "id": "af162c4f-dbd1-4532-9982-ae2aeb82ae67",
   "metadata": {
    "tags": []
   },
   "outputs": [],
   "source": [
    "imshow_grid(\n",
    "    grid,\n",
    "    \"topographic__elevation\",\n",
    "    plot_name=\"Basin topography\",\n",
    "    color_for_closed=None,\n",
    "    colorbar_label=\"$z$ [m]\",\n",
    ")\n",
    "\n",
    "# Plot network_grid (river channel) \n",
    "plot_links(network_grid, with_id=False, as_arrow=False, linewidth=0.05)\n",
    "plot_nodes(network_grid, with_id=False, markersize=0.2)\n",
    "\n",
    "# Plot outlet\n",
    "coords_outlet=grid.xy_of_node[218844]\n",
    "plt.plot(coords_outlet[0],coords_outlet[1],'ro')"
   ]
  },
  {
   "cell_type": "code",
   "execution_count": null,
   "id": "ff1553dd-664e-443d-84ae-25f4775f1c3b",
   "metadata": {
    "tags": []
   },
   "outputs": [],
   "source": [
    "def my_plot_links(\n",
    "    graph, color=\"b\", linestyle=\"solid\", with_id=True, as_arrow=True, linewidth=None, textsize=16\n",
    "):\n",
    "    if as_arrow:\n",
    "        head_width = 0.1\n",
    "    else:\n",
    "        head_width = 0.0\n",
    "    for link, nodes in enumerate(graph.nodes_at_link):\n",
    "        x, y = graph.x_of_node[nodes[0]], graph.y_of_node[nodes[0]]\n",
    "        dx, dy = graph.x_of_node[nodes[1]] - x, graph.y_of_node[nodes[1]] - y\n",
    "        plt.arrow(\n",
    "            x,\n",
    "            y,\n",
    "            dx,\n",
    "            dy,\n",
    "            head_width=head_width,\n",
    "            linewidth=linewidth,\n",
    "            length_includes_head=True,\n",
    "            color=color,\n",
    "            linestyle=linestyle,\n",
    "        )\n",
    "        if with_id:\n",
    "            plt.text(x + dx * 0.5, y + dy * 0.5, link, size=textsize, color=color)"
   ]
  },
  {
   "cell_type": "code",
   "execution_count": null,
   "id": "7f5648e0-9350-444c-84dd-395e1c836ca9",
   "metadata": {
    "tags": []
   },
   "outputs": [],
   "source": [
    "plt.figure(figsize=(10,8))\n",
    "spacing = spacing_from_drainage_area(\n",
    "    grid.at_node[\"drainage_area\"], a=9.68, b=0.32, n_widths=100\n",
    ")\n",
    "\n",
    "network_grid = network_grid_from_raster(\n",
    "    grid,\n",
    "    reducer=SpacingAtLeast(grid.xy_of_node, spacing),\n",
    "    minimum_channel_threshold=5000000,\n",
    "    include=[\"drainage_area\", \"topographic__elevation\"],\n",
    ")\n",
    "\n",
    "imshow_grid(\n",
    "    grid,\n",
    "    \"topographic__elevation\",\n",
    "    plot_name=\"Basin topography\",\n",
    "    color_for_closed=None,\n",
    "    colorbar_label=\"$z$ [m]\",\n",
    ")\n",
    "\n",
    "plot_nodes(network_grid, with_id=False, markersize=2)\n",
    "my_plot_links(network_grid, with_id=True, as_arrow=False, textsize=8)\n",
    "plt.plot(coords_outlet[0],coords_outlet[1],'ro', markersize=6)\n",
    "plt.title(\"Nodes and Links\");"
   ]
  },
  {
   "cell_type": "markdown",
   "id": "b71d1f33-8fdd-43c8-8daa-545ab121ee6e",
   "metadata": {},
   "source": [
    "**There are problems with the network grid plotted above.** Link numbers are _not_ ordered from upstream to downstream (which I think Network Sediment Transporter assumes is true). For example, link 197 - near the northernmost edge of the watershed - is upstream of 196. I believe this is one of the issues that causes problems with `locate_parcel_xy` in `plot_network_and_parcels` below."
   ]
  },
  {
   "cell_type": "markdown",
   "id": "5856dd25-d569-410c-b199-47ba7cf3b526",
   "metadata": {
    "tags": []
   },
   "source": [
    "## 6. Create Sediment Parcels and Populate Network Grid"
   ]
  },
  {
   "cell_type": "markdown",
   "id": "0b641075-084c-4f86-847c-9a46336551be",
   "metadata": {},
   "source": [
    "Note: the following characteristics of the network model grid are set in the river channel shapefile in the tutorial. Because we determine the network grid from topography, we need to set them. These values may not be physically reasonable."
   ]
  },
  {
   "cell_type": "code",
   "execution_count": null,
   "id": "bbe22b01-8fb5-475f-97e6-b4a1f98bfb62",
   "metadata": {
    "tags": []
   },
   "outputs": [],
   "source": []
  },
  {
   "cell_type": "code",
   "execution_count": null,
   "id": "30907681-cdd7-49e7-9b56-b87b801881df",
   "metadata": {
    "tags": []
   },
   "outputs": [],
   "source": [
    "network_grid.at_node[\"bedrock__elevation\"] = network_grid.at_node[\"topographic__elevation\"].copy()\n",
    "\n",
    "network_grid.at_link[\"channel_width\"] = 85 * np.ones(network_grid.number_of_links) # m 85\n",
    "network_grid.at_link[\"flow_depth\"] = 4 * np.ones(network_grid.number_of_links) # m\n",
    "network_grid.at_link[\"reach_length\"] = network_grid.length_of_link"
   ]
  },
  {
   "cell_type": "code",
   "execution_count": null,
   "id": "8eab1893-eb8a-47df-a28b-64a12a17647d",
   "metadata": {
    "tags": []
   },
   "outputs": [],
   "source": [
    "# element_id is the link on which the parcel begins. \n",
    "#assign stream order width and depth?\n",
    "element_id = np.repeat(np.arange(network_grid.number_of_links), 7500)\n",
    "element_id = np.expand_dims(element_id, axis=1)\n",
    "\n",
    "volume = 1*np.ones(np.shape(element_id))  # (m3) adjusted from 1\n",
    "active_layer = np.ones(np.shape(element_id)) # 1= active, 0 = inactive\n",
    "density = 2650 * np.ones(np.size(element_id))  # (kg/m3)\n",
    "abrasion_rate = 0 * np.ones(np.size(element_id)) # (mass loss /m)\n",
    "distance_traveled= 0 * np.ones((np.size(element_id),1)) #(m)\n",
    "\n",
    "# Lognormal GSD\n",
    "medianD = 0.001 # m (medium sand diameter, 0.5cm or 0.0005m) 10^-1, 0.10=(10^-2, 10^0)\n",
    "mu = np.log(medianD)\n",
    "sigma = np.log(2) #assume that D84 = sigma*D50\n",
    "np.random.seed(0)\n",
    "D = np.random.lognormal(\n",
    "    mu,\n",
    "    sigma,\n",
    "    np.shape(element_id)\n",
    ")  # (m) the diameter of grains in each parcel"
   ]
  },
  {
   "cell_type": "code",
   "execution_count": null,
   "id": "a10717ee-d7cf-434e-95fe-fcd9d8596076",
   "metadata": {
    "tags": []
   },
   "outputs": [],
   "source": [
    "time_arrival_in_link = np.random.rand(np.size(element_id), 1) \n",
    "location_in_link = np.random.rand(np.size(element_id), 1) "
   ]
  },
  {
   "cell_type": "code",
   "execution_count": null,
   "id": "35fb833d-1271-418e-b0a4-953bb85d0e78",
   "metadata": {
    "tags": []
   },
   "outputs": [],
   "source": [
    "lithology = [\"andesite\"] * np.size(element_id) #where we will insert characteristics \n",
    "#magnetic suscepeblilty, iron oxide characteristics, etc."
   ]
  },
  {
   "cell_type": "code",
   "execution_count": null,
   "id": "5b936244-dfaf-499b-a4a2-1618773bf374",
   "metadata": {
    "tags": []
   },
   "outputs": [],
   "source": [
    "variables = {\n",
    "    \"abrasion_rate\": ([\"item_id\"], abrasion_rate),\n",
    "    \"density\": ([\"item_id\"], density),\n",
    "    \"lithology\": ([\"item_id\"], lithology),\n",
    "    \"time_arrival_in_link\": ([\"item_id\", \"time\"], time_arrival_in_link),\n",
    "    \"active_layer\": ([\"item_id\", \"time\"], active_layer),\n",
    "    \"location_in_link\": ([\"item_id\", \"time\"], location_in_link),\n",
    "    \"distance_traveled\": ([\"item_id\", \"time\"], distance_traveled),\n",
    "    \"D\": ([\"item_id\", \"time\"], D),\n",
    "    \"volume\": ([\"item_id\", \"time\"], volume)\n",
    "}"
   ]
  },
  {
   "cell_type": "code",
   "execution_count": null,
   "id": "d42ace29-bbd1-426e-98f3-ff3b3b708aed",
   "metadata": {
    "tags": []
   },
   "outputs": [],
   "source": [
    "items = {\"grid_element\": \"link\", \"element_id\": element_id}\n",
    "\n",
    "parcels = DataRecord(\n",
    "    network_grid,\n",
    "    items=items,\n",
    "    time=[0.0],\n",
    "    data_vars=variables,\n",
    "    dummy_elements={\"link\": [NetworkSedimentTransporter.OUT_OF_NETWORK]},\n",
    ")"
   ]
  },
  {
   "cell_type": "markdown",
   "id": "822fd907-f1a1-4692-b275-d7a3f82e1dd5",
   "metadata": {},
   "source": [
    "## 7. Run Network Sediment Transporter"
   ]
  },
  {
   "cell_type": "code",
   "execution_count": null,
   "id": "4aa7332b-ed00-48ff-a1c5-79114bfe235c",
   "metadata": {
    "tags": []
   },
   "outputs": [],
   "source": [
    "timesteps = 13 # total number of timesteps\n",
    "dt = 60 * 60 * 24 *30 # length of timestep (month)\n",
    "#dt = 60\n",
    "#dt = 60 * 30* 1 # halfnhour time steps"
   ]
  },
  {
   "cell_type": "code",
   "execution_count": null,
   "id": "df93a258-3bc0-4021-9af9-92f6089cb8d5",
   "metadata": {
    "tags": []
   },
   "outputs": [],
   "source": [
    "fd = FlowDirectorSteepest(network_grid, \"topographic__elevation\")\n",
    "fd.run_one_step()"
   ]
  },
  {
   "cell_type": "code",
   "execution_count": null,
   "id": "215b8de4-2c2d-4a6b-86c2-42341cedfc99",
   "metadata": {
    "tags": []
   },
   "outputs": [],
   "source": [
    "D=pd.DataFrame()\n",
    "D['active_links']=network_grid.active_links\n",
    "D['flow_direction']=network_grid.at_link['flow__link_direction']\n",
    "problem_links = list(D[D['flow_direction']==0]['active_links'])\n",
    "display(problem_links)\n",
    "coords=np.array([list(network_grid.xy_of_link[x]) for x in problem_links])"
   ]
  },
  {
   "cell_type": "code",
   "execution_count": null,
   "id": "01da240d-1861-44f3-b380-3d88254be6a3",
   "metadata": {
    "tags": []
   },
   "outputs": [],
   "source": [
    "network_grid.at_link['flow__link_direction']=np.array(list([x if (x != 0) else -1 for x in network_grid.at_link['flow__link_direction']]))"
   ]
  },
  {
   "cell_type": "code",
   "execution_count": null,
   "id": "c69d28d3-45b0-4d6c-99b7-2b19ba23672d",
   "metadata": {
    "tags": []
   },
   "outputs": [],
   "source": [
    "nst = NetworkSedimentTransporter(    \n",
    "    network_grid,\n",
    "    parcels,\n",
    "    fd,\n",
    "    bed_porosity=0.3,\n",
    "    g=9.81,\n",
    "    fluid_density=1000,\n",
    "    transport_method=\"WilcockCrowe\", #discuss other transport methods, FLVB\n",
    ")"
   ]
  },
  {
   "cell_type": "code",
   "execution_count": null,
   "id": "40a3b078-5de5-436c-9b9c-1b37b0183510",
   "metadata": {
    "tags": []
   },
   "outputs": [],
   "source": [
    "time_range=range(0, (timesteps * dt), dt)\n",
    "sediment_volume=np.zeros_like(time_range)\n",
    "item_ids=parcels.dataset['item_id'].values\n",
    "i=0\n",
    "\n",
    "for t in range(0, (timesteps * dt), dt):\n",
    "    nst.run_one_step(dt)\n",
    "    \n",
    "    distances=np.array(nst._distance_traveled_cumulative)\n",
    "    parcels.dataset['distance_traveled']=xr.where(parcels.dataset.time==t,\n",
    "                                                  distances,parcels.dataset['distance_traveled'])\n",
    "    #print(parcels.dataset.sel(time=t)['distance_traveled'].values)\n",
    "    #print(distances)\n",
    "    \n",
    "\n",
    "    print(\"Model time: \", t / (60 * 60 * 24), \"days passed\")\n",
    "    sediment_volume[i]=network_grid.at_link['sediment_total_volume'].sum()\n",
    "    i+=1\n",
    "    "
   ]
  },
  {
   "cell_type": "markdown",
   "id": "3a8b983f-381f-4253-b99b-f1ffe1a41105",
   "metadata": {
    "tags": []
   },
   "source": [
    "## 8. Plot Parcels and Network"
   ]
  },
  {
   "cell_type": "code",
   "execution_count": null,
   "id": "efab3cbd-821a-43f4-93b5-0307013f3279",
   "metadata": {
    "tags": []
   },
   "outputs": [],
   "source": []
  },
  {
   "cell_type": "code",
   "execution_count": null,
   "id": "bd8f72fd-7012-4464-b244-221eac231073",
   "metadata": {
    "tags": []
   },
   "outputs": [],
   "source": []
  },
  {
   "cell_type": "code",
   "execution_count": null,
   "id": "5a1dc29f-a480-4d92-806c-2df1d367db4c",
   "metadata": {
    "tags": []
   },
   "outputs": [],
   "source": [
    "\n",
    "plt.plot(np.array(time_range)/(60*60*24),sediment_volume,'k.')\n",
    "plt.xlabel('Time [days]')\n",
    "plt.ylabel('Total sediment volume in network')\n",
    "plt.show()"
   ]
  },
  {
   "cell_type": "markdown",
   "id": "e42e30b4-2bf6-4c96-818e-49a52bc69ac1",
   "metadata": {},
   "source": [
    "Added the following for error checking.\n",
    "\n",
    "I think the issue with plotting has to do with some links in the network model grid where the flow directions are 0 (a case that `locate_parcel_xy` does not handle). These seem to occur near confluences, and may be related to places where the numbering does not increase downstream."
   ]
  },
  {
   "cell_type": "markdown",
   "id": "37f98c1e-56f9-4cb9-a45a-f3f3f336006c",
   "metadata": {},
   "source": [
    "Here is where the problems happen (orange crosses):"
   ]
  },
  {
   "cell_type": "code",
   "execution_count": null,
   "id": "1ff914a5-61f8-4b25-bca0-d385a91d4656",
   "metadata": {
    "tags": []
   },
   "outputs": [],
   "source": [
    "\n",
    "spacing = spacing_from_drainage_area(\n",
    "    grid.at_node[\"drainage_area\"], a=9.68, b=0.32, n_widths=100\n",
    ")\n",
    "\n",
    "imshow_grid(\n",
    "    grid,\n",
    "    \"topographic__elevation\",\n",
    "    plot_name=\"Basin topography\",\n",
    "    color_for_closed=None,\n",
    "    colorbar_label=\"$z$ [m]\",\n",
    ")\n",
    "\n",
    "plot_nodes(network_grid, with_id=False, markersize=2)\n",
    "my_plot_links(network_grid, with_id=True, as_arrow=False, textsize=8)\n",
    "plt.plot(coords[:,0],coords[:,1],'+',color='orange',markersize=12)\n",
    "plt.title(\"Nodes and Links\");"
   ]
  },
  {
   "cell_type": "markdown",
   "id": "b314d1f4-063a-46b6-8bed-a43ca03cdb45",
   "metadata": {},
   "source": [
    "For now, let's just fix the problem by setting the flow directions in the problem links to -1."
   ]
  },
  {
   "cell_type": "markdown",
   "id": "4c67f4f8-e6fa-45a4-a563-c0a9c5cdc9bb",
   "metadata": {},
   "source": [
    "I had to add the following code in to allow us to track the originating links of each parcel for plotting"
   ]
  },
  {
   "cell_type": "code",
   "execution_count": null,
   "id": "95f3bce7-f7ae-42fa-9d0c-4e0602f5dbbb",
   "metadata": {
    "tags": []
   },
   "outputs": [],
   "source": [
    "originating_links=np.reshape(np.repeat(parcels.dataset.element_id[:,0].values,np.array(time_range).shape[0]+1),(parcels.dataset.element_id[:,0].values.shape[0],np.array(time_range).shape[0]+1)).T\n",
    "parcels.dataset['originating_link']=xr.DataArray(originating_links,coords=parcels.dataset.coords)"
   ]
  },
  {
   "cell_type": "code",
   "execution_count": null,
   "id": "c982791c-2fc8-4466-ad47-2afd242f86a0",
   "metadata": {
    "tags": []
   },
   "outputs": [],
   "source": [
    "timestep_of_interest = 1\n",
    "originating_link = 7 # This is Emmons Glacier (I think)\n",
    "\n",
    "\n",
    "# filter the parcels to calculate total volumes of only the parcels that originated in the chosen link\n",
    "parcelfilter = np.zeros_like(parcels.dataset.element_id, dtype=bool)\n",
    "parcelfilter[:, timestep_of_interest] = (\n",
    "    parcels.dataset.element_id[:, 0] == originating_link #sets parcel values to either 1 or 0, if it is from origninating link or not\n",
    ")\n",
    "\n",
    "vol_orig_link = parcels.calc_aggregate_value(\n",
    "    xr.Dataset.sum, \"volume\", at=\"link\", filter_array=parcelfilter, fill_value=0.0 #sums up volume of each link, determines if each parcel in that link is from original link\n",
    ")\n",
    "\n",
    "\n",
    "#fig.suptitle('{} days'.format(timestep_of_interest/8))\n",
    "plt.show()\n",
    "\n",
    "with pd.option_context(\"display.max_rows\", 1000):\n",
    "   display(pd.DataFrame(data=np.array([network_grid.active_links,vol_orig_link]).T,columns=['link','volume']))"
   ]
  },
  {
   "cell_type": "code",
   "execution_count": null,
   "id": "8d356f6d-d99a-4a3e-a8d1-eef0e329d8d2",
   "metadata": {
    "tags": []
   },
   "outputs": [],
   "source": [
    "print(network_grid.length_of_link[originating_link])"
   ]
  },
  {
   "cell_type": "code",
   "execution_count": null,
   "id": "b8534145-1605-46b8-8b2e-88ffdd752203",
   "metadata": {
    "tags": []
   },
   "outputs": [],
   "source": [
    "print(sediment_volume[originating_link])"
   ]
  },
  {
   "cell_type": "markdown",
   "id": "a3d974d8-b03e-430f-ace7-be9662e314b9",
   "metadata": {
    "tags": []
   },
   "source": [
    "# Percent Finer Distribution:\n",
    "## It is saying that the data values we are plotting have a different number of dimensions, which I do not know how to interpret"
   ]
  },
  {
   "cell_type": "code",
   "execution_count": null,
   "id": "ab31b070-f901-4a7c-a24a-882cf4274582",
   "metadata": {
    "tags": []
   },
   "outputs": [],
   "source": [
    "particle_sizes = [np.array(parcels.dataset['D'])]\n",
    "print(particle_sizes)\n"
   ]
  },
  {
   "cell_type": "code",
   "execution_count": null,
   "id": "b440e46a-bdaf-4742-873e-b126a3a21c6e",
   "metadata": {
    "tags": []
   },
   "outputs": [],
   "source": [
    "sorted_sizes = sorted(particle_sizes)\n",
    "print(sorted_sizes)\n"
   ]
  },
  {
   "cell_type": "code",
   "execution_count": null,
   "id": "7a57d7b1-2a07-4483-a3d3-dd42510f8f70",
   "metadata": {
    "tags": []
   },
   "outputs": [],
   "source": [
    "\n",
    "#percent_finer = np.arange(1, len(sorted_sizes) + 1) / len(sorted_sizes) * 100\n",
    "\n"
   ]
  },
  {
   "cell_type": "code",
   "execution_count": null,
   "id": "552ec4dd-76f5-4d08-a041-5c49c8c92f25",
   "metadata": {
    "tags": []
   },
   "outputs": [],
   "source": [
    "\n",
    "import numpy as np\n",
    "import matplotlib.pyplot as plt\n",
    "\n",
    "# Example data array of grain sizes (could represent any units like microns, etc.)\n",
    "grain_sizes = sorted_sizes\n",
    "# Assuming each grain size is one \"particle\" or one unit of volume\n",
    "# You can replace this with the actual volume or particle counts if you have them\n",
    "volumes = [1] * len(grain_sizes)  # All volumes are assumed to be 1 unit for simplicity\n",
    "\n",
    "# Sort the grain sizes in ascending order (smallest to largest)\n",
    "\n",
    "sorted_volumes = np.sort(volumes)\n",
    "\n",
    "# Calculate the cumulative volume (or count) passing through each grain size\n",
    "cumulative_volume = np.cumsum(sorted_volumes)\n",
    "\n",
    "# Calculate the percent finer by dividing the cumulative volume by the total volume\n",
    "total_volume = cumulative_volume[-1]\n",
    "percent_finer = (cumulative_volume / total_volume) * 100\n",
    "\n",
    "# Print the percent finer distribution\n",
    "print(\"Grain Sizes (m):\", sorted_sizes)\n",
    "print(\"Percent Finer (%):\", percent_finer)\n",
    "\n",
    "\n"
   ]
  },
  {
   "cell_type": "code",
   "execution_count": null,
   "id": "f2f61f7c-1c74-4b13-8da6-3b8326eecd33",
   "metadata": {},
   "outputs": [],
   "source": [
    "# Optional: Plot the percent finer distribution\n",
    "plt.plot(sorted_grain_sizes, percent_finer, marker='o', linestyle='-', color='b')\n",
    "plt.xlabel('Grain Size (microns)')\n",
    "plt.ylabel('Percent Finer (%)')\n",
    "plt.title('Percent Finer Distribution')\n",
    "plt.grid(True)\n",
    "plt.show()"
   ]
  },
  {
   "cell_type": "code",
   "execution_count": null,
   "id": "aa538868-bb81-45c1-a3d1-54dff6b9fdcc",
   "metadata": {
    "tags": []
   },
   "outputs": [],
   "source": [
    "#parcel_filter = np.zeros((parcels.dataset.dims[\"item_id\"]), dtype=bool)\n",
    "#parcel_filter[::500] = True\n",
    "import matplotlib.colors as colors\n",
    "from matplotlib.colors import Normalize\n",
    "import matplotlib as mpl\n",
    "\n",
    "cmap = mpl.cm.PuRd_r\n",
    "\n",
    "parcel_color_norm = mpl.colors.Normalize(-1, 300) # Linear normalization\n",
    "parcel_color_norm = colors.LogNorm(vmin=0.0001, vmax=0.01)  #ADJUST THIS WHEN SETTING MEDIAN DIAMETER\n",
    "#originating_link=7\n",
    "\n",
    "\n",
    "# filter the parcels to calculate total volumes of only the parcels that originated in the chosen link\n",
    "parcel_filter = np.zeros_like(parcels.dataset.element_id, dtype=bool)\n",
    "for t in range(0,timesteps):\n",
    "    parcel_filter[:, t] = (\n",
    "        parcels.dataset.element_id[:, 0] == originating_link #sets parcel values to either 1 or 0, if it is from origninating link or not\n",
    "    )\n",
    "\n",
    "    \n",
    "pc_opts= {\n",
    "        \"parcel_color_attribute\": \"D\", # a more complex normalization and a parcel filter. \n",
    "        \"parcel_color_norm\": parcel_color_norm,\n",
    "        \"parcel_color_attribute_title\":\"Diameter [m]\",\n",
    "        \"parcel_alpha\": 1.0,\n",
    "        \"parcel_size\": 40,\n",
    "        \"parcel_time_index\":0,\n",
    "        \"parcel_filter\": parcel_filter[:,0],\n",
    "        \"parcel_color_cmap\" : cmap\n",
    "    }\n",
    "fig = plot_network_and_parcels(\n",
    "    network_grid, parcels,\n",
    "    **pc_opts,\n",
    ")\n",
    "plt.show()"
   ]
  },
  {
   "cell_type": "code",
   "execution_count": null,
   "id": "30e099a8-7401-4ef7-b756-3e381df70f2a",
   "metadata": {
    "tags": []
   },
   "outputs": [],
   "source": [
    "pc_opts2= {\n",
    "        \"parcel_color_attribute\": \"D\", # a more complex normalization and a parcel filter. \n",
    "        \"parcel_color_norm\": parcel_color_norm,\n",
    "        \"parcel_color_attribute_title\":\"Diameter [m]\",\n",
    "        \"parcel_alpha\": 1.0,\n",
    "        \"parcel_size\": 30,\n",
    "        \"parcel_time_index\":12,\n",
    "        \"parcel_filter\": parcel_filter[:,0],\n",
    "        \"parcel_color_cmap\" : cmap\n",
    "    }\n",
    "fig = plot_network_and_parcels(\n",
    "    network_grid, parcels, \n",
    "    **pc_opts2\n",
    "    )\n",
    "plt.show()"
   ]
  },
  {
   "cell_type": "markdown",
   "id": "578cc04b-77e8-4579-bcda-39bc4248a922",
   "metadata": {},
   "source": [
    "The following statement lists out how far each parcel from the originating link has traveled at the timestep of intrest. Note that a few have gone over 20 km."
   ]
  },
  {
   "cell_type": "code",
   "execution_count": null,
   "id": "24755880-5d6f-4765-8bda-a4a1bf8e1062",
   "metadata": {},
   "outputs": [],
   "source": []
  },
  {
   "cell_type": "code",
   "execution_count": null,
   "id": "510c73a4-c6d2-4221-ae8f-b2bdfcff5b0c",
   "metadata": {
    "tags": []
   },
   "outputs": [],
   "source": [
    "print(parcels.dataset[\"distance_traveled\"].where((parcels.dataset.time==timestep_of_interest*dt)&(parcels.dataset.originating_link==originating_link),drop=True).values.flatten().T)"
   ]
  },
  {
   "cell_type": "code",
   "execution_count": null,
   "id": "a597ea1a-1744-4067-ab76-f912284c4165",
   "metadata": {
    "tags": []
   },
   "outputs": [],
   "source": [
    "fig,ax = plt.subplots(2,1)\n",
    "ax[0].hist(parcels.dataset[\"distance_traveled\"].where((parcels.dataset.time==0),drop=True).values.flatten().T,bins=100)\n",
    "ax[1].hist(parcels.dataset[\"distance_traveled\"].where((parcels.dataset.time==dt*timestep_of_interest),drop=True).values.flatten().T,bins=100)\n",
    "plt.show()"
   ]
  },
  {
   "cell_type": "code",
   "execution_count": null,
   "id": "8f309934-03e4-4783-b897-9aa2e502747d",
   "metadata": {
    "tags": []
   },
   "outputs": [],
   "source": [
    "fig,ax = plt.subplots(2,1)\n",
    "ax[0].hist(parcels.dataset['D'].where((parcels.dataset.time==0),drop=True).values.flatten().T,bins=100)\n",
    "ax[1].hist(parcels.dataset['D'].where((parcels.dataset.time==dt*timestep_of_interest),drop=True).values.flatten().T,bins=100)\n",
    "plt.show()"
   ]
  },
  {
   "cell_type": "markdown",
   "id": "d54f1a97-11a7-4d65-b723-846dfbc56e5a",
   "metadata": {},
   "source": [
    "Plot of distance traveled vs. time:"
   ]
  },
  {
   "cell_type": "code",
   "execution_count": null,
   "id": "73607dbe-ef5e-4f11-bb61-2f20f0fe7a03",
   "metadata": {
    "tags": []
   },
   "outputs": [],
   "source": [
    "fig, ax = plt.subplots(figsize=(6, 1), layout='constrained')\n",
    "\n",
    "cmap = mpl.cm.cool\n",
    "norm = mpl.colors.Normalize(vmin=5, vmax=10)\n",
    "\n",
    "fig.colorbar(mpl.cm.ScalarMappable(norm=norm, cmap=cmap),\n",
    "             cax=ax, orientation='horizontal', label='Some Units')"
   ]
  },
  {
   "cell_type": "code",
   "execution_count": null,
   "id": "facbc774-4892-4ea7-8d86-5f800f570cfd",
   "metadata": {
    "tags": []
   },
   "outputs": [],
   "source": [
    "parcel_subset=parcels.dataset.where((parcels.dataset.originating_link==originating_link),drop=True)\n",
    "parcel_subset_df=parcel_subset.to_dataframe().reset_index()\n",
    "fig, ax = plt.subplots()\n",
    "\n",
    "p=ax.scatter(parcel_subset_df['time']/(60*60),parcel_subset_df['distance_traveled'],c=parcel_subset_df['D'])\n",
    "cb=fig.colorbar(p)\n",
    "\n",
    "\n",
    "plt.xlabel('Time (hours)')\n",
    "plt.ylabel('Distance Traveled (m)') \n",
    "plt.ylim(0,1000)\n",
    "cb.ax.set_ylabel('Mean Particle Diameter (m)') \n",
    "plt.show()"
   ]
  },
  {
   "cell_type": "code",
   "execution_count": null,
   "id": "758cca6c-2e99-4572-b6e1-7e3db6d3f76e",
   "metadata": {
    "tags": []
   },
   "outputs": [],
   "source": [
    "fig = plot_network_and_parcels(\n",
    "    network_grid, parcels, \n",
    "    parcel_time_index=0, \n",
    "    #parcel_color_attribute=\"D\",\n",
    "    link_attribute=\"sediment_total_volume\", \n",
    "    parcel_size=10, \n",
    "    parcel_alpha=0,\n",
    ")"
   ]
  },
  {
   "cell_type": "code",
   "execution_count": null,
   "id": "270fd688-d734-44cd-bdf0-92fea0036d4a",
   "metadata": {
    "tags": []
   },
   "outputs": [],
   "source": [
    "parcel_subset=parcels.dataset.where((parcels.dataset.originating_link==originating_link),drop=True)\n",
    "parcel_subset_df=parcel_subset.to_dataframe().reset_index()\n",
    "fig, ax = plt.subplots()\n",
    "p=ax.scatter(parcel_subset_df['time']/(60*60),parcel_subset_df['distance_traveled'],c=parcel_subset_df['D'])\n",
    "\n",
    "\n",
    "cb=fig.colorbar(p)\n",
    "plt.xlabel('Time (hours)')\n",
    "plt.ylabel('Distance Traveled (m)') \n",
    "plt.ylim(0,7500)\n",
    "plt.xlim(0,10)\n",
    "cb.ax.set_ylabel('Mean Particle Diameter (m)') \n",
    "plt.show()"
   ]
  },
  {
   "cell_type": "markdown",
   "id": "e0418fa0-f47d-449e-9d03-f4f15d50af8c",
   "metadata": {
    "tags": []
   },
   "source": [
    "# sediment total volume"
   ]
  },
  {
   "cell_type": "code",
   "execution_count": null,
   "id": "3a5f0e8c-4356-4f04-a45a-07a892738027",
   "metadata": {
    "tags": []
   },
   "outputs": [],
   "source": [
    "plt.loglog(parcels.dataset.D[:,-1],\n",
    "         nst._distance_traveled_cumulative,\n",
    "         '.'\n",
    "        )\n",
    "plt.ylim(1,10000)\n",
    "plt.xlabel('Parcel grain size (m)')\n",
    "plt.ylabel('Cumulative parcel travel distance')\n",
    "\n",
    "# Note: some of the smallest grain travel distances can exceed the length of the \n",
    "# grid by \"overshooting\" during a single timestep of high transport rate"
   ]
  },
  {
   "cell_type": "markdown",
   "id": "5b5847f7-14ff-4145-9a6a-d78b7e008711",
   "metadata": {},
   "source": [
    "# parcels moving out of system"
   ]
  },
  {
   "cell_type": "code",
   "execution_count": null,
   "id": "90161ab8-6a41-4bd6-a57a-f6c7bfb5e703",
   "metadata": {
    "tags": []
   },
   "outputs": [],
   "source": [
    "out_of_system=parcels.dataset.where(parcels.dataset.element_id==-2,drop=True).item_id\n",
    "print(out_of_system)"
   ]
  },
  {
   "cell_type": "markdown",
   "id": "31da3b26-9b32-42f7-a3a2-42d1675dbddc",
   "metadata": {
    "tags": []
   },
   "source": [
    "## Plotting Sediment Volume"
   ]
  },
  {
   "cell_type": "code",
   "execution_count": null,
   "id": "c0c76616-20ed-41c1-8beb-3ef19b30ec0e",
   "metadata": {
    "tags": []
   },
   "outputs": [],
   "source": [
    "from matplotlib.colors import Normalize\n",
    "network_norm = Normalize(-1, 13000) # see matplotlib.colors.Normalize (************SEDIMENT VOLUME SCALE)\n",
    " \n",
    "link_color_options = [\n",
    "    {\n",
    "        \"link_attribute\": \"sediment_total_volume\", \n",
    "        \"network_norm\": network_norm, # and normalize color scheme\n",
    "        \"link_attribute_title\": \"Total Sediment Volume\", # title on link color legend\n",
    "        \"network_cmap\": \"plasma\",\n",
    "        \"parcel_alpha\":0, \n",
    "        \"network_linewidth\":3 \n",
    "\n",
    "    }\n",
    "]"
   ]
  },
  {
   "cell_type": "code",
   "execution_count": null,
   "id": "e77465a0-6b43-49dd-9650-0e6494e5adc1",
   "metadata": {
    "tags": []
   },
   "outputs": [],
   "source": [
    "for grid, parcels in zip([grid], [parcels]):\n",
    "    for l_opts in link_color_options:\n",
    "        fig = plot_network_and_parcels(\n",
    "        network_grid, parcels, \n",
    "        parcel_time_index=0, **l_opts)\n",
    "    ax=plt.gca()\n",
    "    #ax.plot(coords[:,0],coords[:,1],'+',color='orange',markersize=12)\n",
    "plt.show()\n",
    "#plot_nodes(network_grid, with_id=False, markersize=2)\n",
    "#my_plot_links(network_grid, with_id=True, as_arrow=False, textsize=8)\n",
    "#plt.plot(coords[:,0],coords[:,1],'+',color='orange',markersize=12)"
   ]
  },
  {
   "cell_type": "code",
   "execution_count": null,
   "id": "eb4b9907-8629-406c-939b-b8c5c71eb921",
   "metadata": {
    "tags": []
   },
   "outputs": [],
   "source": [
    "for l_opts in link_color_options:\n",
    "    fig = plot_network_and_parcels(\n",
    "        network_grid, parcels, \n",
    "        parcel_time_index=9, **l_opts)\n",
    "    ax=plt.gca()\n",
    "    #ax.plot(coords[:,0],coords[:,1],'+',color='orange',markersize=12)\n",
    "plt.show()"
   ]
  },
  {
   "cell_type": "markdown",
   "id": "18530f70-819a-4b77-a648-95237d687145",
   "metadata": {
    "tags": []
   },
   "source": [
    "## 6. Plotting a subset of the parcels\n",
    "\n",
    "In some cases, we might want to plot only a subset of the parcels on the network. Below, we plot every 500th parcel in the `DataRecord`. "
   ]
  },
  {
   "cell_type": "code",
   "execution_count": null,
   "id": "3552b32a-7668-4519-b175-498a97bffb18",
   "metadata": {
    "tags": []
   },
   "outputs": [],
   "source": [
    "import matplotlib as mpl\n",
    "fig, ax = plt.subplots(figsize=(6, 1), layout='constrained')\n",
    "\n",
    "cmap = mpl.cm.PuBu_r\n",
    "norm = mpl.colors.Normalize(vmin=5, vmax=10)\n",
    "\n",
    "fig.colorbar(mpl.cm.ScalarMappable(norm=norm, cmap=cmap),\n",
    "             cax=ax, orientation='horizontal', label='Some Units')"
   ]
  },
  {
   "cell_type": "code",
   "execution_count": null,
   "id": "a978ba2d-9e87-4901-a136-8f4ad100298b",
   "metadata": {
    "tags": []
   },
   "outputs": [],
   "source": [
    "#parcel_filter = np.zeros((parcels.dataset.dims[\"item_id\"]), dtype=bool)\n",
    "#parcel_filter[::500] = True\n",
    "import matplotlib.colors as colors\n",
    "from matplotlib.colors import Normalize\n",
    "import matplotlib as mpl\n",
    "\n",
    "cmap = mpl.cm.BuPu_r\n",
    "\n",
    "parcel_color_norm = mpl.colors.Normalize(-1, 300) # Linear normalization\n",
    "parcel_color_norm = colors.LogNorm(vmin=0.0001, vmax=0.01)  #ADJUST THIS WHEN SETTING MEDIAN DIAMETER\n",
    "originating_link=33\n",
    "\n",
    "\n",
    "# filter the parcels to calculate total volumes of only the parcels that originated in the chosen link\n",
    "parcel_filter = np.zeros_like(parcels.dataset.element_id, dtype=bool)\n",
    "for t in range(0,timesteps):\n",
    "    parcel_filter[:, t] = (\n",
    "        parcels.dataset.element_id[:, 0] == originating_link #sets parcel values to either 1 or 0, if it is from origninating link or not\n",
    "    )\n",
    "\n",
    "    \n",
    "pc_opts= {\n",
    "        \"parcel_color_attribute\": \"D\", # a more complex normalization and a parcel filter. \n",
    "        \"parcel_color_norm\": parcel_color_norm,\n",
    "        \"parcel_color_attribute_title\":\"Diameter [m]\",\n",
    "        \"parcel_alpha\": 1.0,\n",
    "        \"parcel_size\": 40,\n",
    "        \"parcel_time_index\":0,\n",
    "        \"parcel_filter\": parcel_filter[:,0],\n",
    "        \"parcel_color_cmap\" : cmap\n",
    "    }\n",
    "fig = plot_network_and_parcels(\n",
    "    network_grid, parcels,\n",
    "    **pc_opts,\n",
    ")\n",
    "pc_opts2= {\n",
    "        \"parcel_color_attribute\": \"D\", # a more complex normalization and a parcel filter. \n",
    "        \"parcel_color_norm\": parcel_color_norm,\n",
    "        \"parcel_color_attribute_title\":\"Diameter [m]\",\n",
    "        \"parcel_alpha\": 1.0,\n",
    "        \"parcel_size\": 40,\n",
    "        \"parcel_time_index\":48,\n",
    "        \"parcel_filter\": parcel_filter[:,0],\n",
    "        \"parcel_color_cmap\" : cmap\n",
    "    }\n",
    "fig = plot_network_and_parcels(\n",
    "    network_grid, parcels, \n",
    "    **pc_opts2\n",
    "    )\n",
    "plt.show()"
   ]
  },
  {
   "cell_type": "code",
   "execution_count": null,
   "id": "ebd64911-400d-4b44-8eab-c9990aaaf483",
   "metadata": {
    "tags": []
   },
   "outputs": [],
   "source": [
    "#parcel_vol_on_grid = parcels.dataset[\"volume\"].values\n",
    "#parcel_vol_on_grid[parcels.dataset[\"element_id\"].values==-2]=0\n",
    "#parcel_filter = np.zeros_like(parcels.dataset.element_id, dtype=bool)\n",
    "#for t in range(0,timesteps):\n",
    "   # parcel_filter[:, t] = (\n",
    "     #   parcels.dataset.element_id[:, 0] == originating_link #sets parcel values to either 1 or 0, if it is from origninating link or not\n",
    "   # )\n",
    "\n",
    "#travel_distance=nst._distance_traveled_cumulative,\"parcel_filter\"== parcel_filter[:,0]\n",
    "print(travel_distance)"
   ]
  },
  {
   "cell_type": "markdown",
   "id": "49b76e7a-e022-4ed0-b01d-7ee8df0b9d47",
   "metadata": {
    "tags": []
   },
   "source": [
    "## 4. Options for parcel color\n",
    "\n",
    "The dictionary below (`parcel_color_options`) outlines 4 examples of link color and line width choices: \n",
    "\n",
    "3. Color parcels by an existing parcel attribute, in this case the sediment diameter of the parcel (`parcels1.dataset['D']`)\n"
   ]
  },
  {
   "cell_type": "code",
   "execution_count": null,
   "id": "ddba7c29-54ec-484e-810a-4c96c3ba9777",
   "metadata": {
    "tags": []
   },
   "outputs": [],
   "source": [
    "import matplotlib.colors as colors\n",
    "\n",
    "parcel_filter = np.zeros((parcels.dataset.dims[\"item_id\"]), dtype=bool)\n",
    "parcel_filter[::500] = True\n",
    "\n",
    "\n",
    "\n",
    "parcel_color_options = [\n",
    "    {\n",
    "        \"parcel_color_attribute\": \"D\", # existing parcel attribute. \n",
    "        \"parcel_color_norm\": parcel_color_norm,\n",
    "        \"parcel_color_attribute_title\":\"Diameter [m]\",\n",
    "        \"parcel_alpha\":1.0,\n",
    "    },\n",
    "]\n",
    "\n",
    "for grid, parcels in zip([grid], [parcels]):\n",
    "    for pc_opts in parcel_color_options:\n",
    "        fig = plot_network_and_parcels(\n",
    "            network_grid, parcels, \n",
    "            parcel_time_index=0, **pc_opts)\n",
    "        parcel_filter\n",
    "        plt.show()\n",
    "\n"
   ]
  },
  {
   "cell_type": "markdown",
   "id": "a1502c3f-f989-42f0-98b3-2a6633c761c6",
   "metadata": {
    "jp-MarkdownHeadingCollapsed": true,
    "tags": []
   },
   "source": [
    "## 5. Options for parcel size\n",
    "The dictionary below (`parcel_size_options`) outlines 4 examples of link color and line width choices: \n",
    "1. The default output of `plot_network_and_parcels`\n",
    "2. Set a uniform parcel size and color\n",
    "3. Size parcels by an existing parcel attribute, in this case the sediment diameter (`parcels1.dataset['D']`), and making the parcel markers entirely opaque. \n",
    "4. Normalize parcel size on a logarithmic scale, and change the default maximum and minimum parcel sizes. "
   ]
  },
  {
   "cell_type": "markdown",
   "id": "d02aeaac-e769-4943-b290-8abc768db966",
   "metadata": {
    "tags": []
   },
   "source": [
    "## 7. Select the parcel timestep to be plotted\n",
    "\n",
    "As a default, `plot_network_and_parcels` plots parcel positions for the last timestep of the model run. However, `NetworkSedimentTransporter` tracks the motion of parcels for all timesteps. We can plot the location of parcels on the link at any timestep using `parcel_time_index`. "
   ]
  },
  {
   "cell_type": "code",
   "execution_count": null,
   "id": "c0ae3c6b-ff5b-4a57-aedd-5ce06d9193d4",
   "metadata": {
    "tags": []
   },
   "outputs": [],
   "source": [
    "parcel_time_options = [0,9,20]\n",
    "\n",
    "for grid, parcels in zip([grid], [parcels]):\n",
    "    for pt_opts in parcel_time_options:\n",
    "        fig = plot_network_and_parcels(\n",
    "            network_grid, parcels, \n",
    "            parcel_size = 20,\n",
    "            parcel_alpha = 0.1,\n",
    "            parcel_time_index=pt_opts)\n",
    "        plt.show()"
   ]
  },
  {
   "cell_type": "code",
   "execution_count": null,
   "id": "8ce8579e-1460-4ce5-b085-cc22bec579b7",
   "metadata": {},
   "outputs": [],
   "source": []
  }
 ],
 "metadata": {
  "kernelspec": {
   "display_name": "CSDMS",
   "language": "python",
   "name": "csdms"
  },
  "language_info": {
   "codemirror_mode": {
    "name": "ipython",
    "version": 3
   },
   "file_extension": ".py",
   "mimetype": "text/x-python",
   "name": "python",
   "nbconvert_exporter": "python",
   "pygments_lexer": "ipython3",
   "version": "3.11.7"
  }
 },
 "nbformat": 4,
 "nbformat_minor": 5
}
